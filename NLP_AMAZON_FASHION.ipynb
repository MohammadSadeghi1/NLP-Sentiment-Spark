{
 "cells": [
  {
   "cell_type": "markdown",
   "id": "762acd76",
   "metadata": {},
   "source": [
    "# Sentiment Analysis of Amazon Customers with Spark"
   ]
  },
  {
   "cell_type": "code",
   "execution_count": 1,
   "id": "cfa068bc",
   "metadata": {},
   "outputs": [],
   "source": [
    "from pyspark.sql import SparkSession"
   ]
  },
  {
   "cell_type": "code",
   "execution_count": 2,
   "id": "e6d51c40",
   "metadata": {},
   "outputs": [
    {
     "name": "stderr",
     "output_type": "stream",
     "text": [
      "23/11/07 14:21:36 WARN Utils: Your hostname, mobin-VirtualBox resolves to a loopback address: 127.0.1.1; using 10.0.2.15 instead (on interface enp0s3)\n",
      "23/11/07 14:21:36 WARN Utils: Set SPARK_LOCAL_IP if you need to bind to another address\n",
      "Setting default log level to \"WARN\".\n",
      "To adjust logging level use sc.setLogLevel(newLevel). For SparkR, use setLogLevel(newLevel).\n",
      "23/11/07 14:21:36 WARN NativeCodeLoader: Unable to load native-hadoop library for your platform... using builtin-java classes where applicable\n"
     ]
    }
   ],
   "source": [
    "spark = SparkSession.builder.appName(\"Sentiment\").getOrCreate()"
   ]
  },
  {
   "cell_type": "markdown",
   "id": "3612fd63",
   "metadata": {},
   "source": [
    "### Load dataset"
   ]
  },
  {
   "cell_type": "code",
   "execution_count": 3,
   "id": "f1b0db23",
   "metadata": {
    "scrolled": true
   },
   "outputs": [
    {
     "name": "stderr",
     "output_type": "stream",
     "text": [
      "                                                                                \r"
     ]
    }
   ],
   "source": [
    "data = spark.read.json(\"AMAZON_FASHION_5.json\")   \n",
    "# data source : https://cseweb.ucsd.edu/~jmcauley/datasets/amazon_v2/"
   ]
  },
  {
   "cell_type": "code",
   "execution_count": 4,
   "id": "2179bc52",
   "metadata": {
    "scrolled": true
   },
   "outputs": [
    {
     "name": "stdout",
     "output_type": "stream",
     "text": [
      "+----------+-----+-------+--------------------+-----------+--------------+------------------+--------------------+--------------------+--------------+--------+----+\n",
      "|      asin|image|overall|          reviewText| reviewTime|    reviewerID|      reviewerName|               style|             summary|unixReviewTime|verified|vote|\n",
      "+----------+-----+-------+--------------------+-----------+--------------+------------------+--------------------+--------------------+--------------+--------+----+\n",
      "|B000K2PJ4K| null|    5.0|Great product and...| 09 4, 2015| ALJ66O1Y6SLHA|          Tonya B.|{ Blue/Orange, nu...|          Five Stars|    1441324800|    true|null|\n",
      "|B000K2PJ4K| null|    5.0|Great product and...| 09 4, 2015| ALJ66O1Y6SLHA|          Tonya B.|{ Black (37467610...|          Five Stars|    1441324800|    true|null|\n",
      "|B000K2PJ4K| null|    5.0|Great product and...| 09 4, 2015| ALJ66O1Y6SLHA|          Tonya B.|{ Blue/Gray Logo,...|          Five Stars|    1441324800|    true|null|\n",
      "|B000K2PJ4K| null|    5.0|Great product and...| 09 4, 2015| ALJ66O1Y6SLHA|          Tonya B.|{ Blue (37867638-...|          Five Stars|    1441324800|    true|null|\n",
      "|B000K2PJ4K| null|    5.0|Great product and...| 09 4, 2015| ALJ66O1Y6SLHA|          Tonya B.|{ Blue/Pink, null...|          Five Stars|    1441324800|    true|null|\n",
      "|B000K2PJ4K| null|    3.0|Waaay too small. ...| 05 6, 2015|A3W11493KS6Z2L|            NaeNae|{ White/Black, nu...|               Oops!|    1430870400|    true|null|\n",
      "|B000K2PJ4K| null|    5.0|Stays vibrant aft...| 05 6, 2015|A3W11493KS6Z2L|            NaeNae|{ Blue/Orange, nu...|               Great|    1430870400|    true|null|\n",
      "|B000K2PJ4K| null|    5.0|Stays vibrant aft...| 05 6, 2015|A3W11493KS6Z2L|            NaeNae|{ Blue (37867638-...|                Good|    1430870400|    true|null|\n",
      "|B000K2PJ4K| null|    5.0|My son really lik...| 05 6, 2015|A3W11493KS6Z2L|            NaeNae|{ Blue/Pink, null...|               Great|    1430870400|    true|null|\n",
      "|B000K2PJ4K| null|    3.0|Waaay too small. ...| 05 6, 2015|A3W11493KS6Z2L|            NaeNae|{ Light Blue/Red,...|               Oops!|    1430870400|    true|null|\n",
      "|B000KPIHQ4| null|    2.0|Relieved my Plant...|01 25, 2018|A3HX4X3TIABWOV|   Denise A. Conte|{null,  Men's 6-6...|These were recomm...|    1516838400|    true|null|\n",
      "|B000KPIHQ4| null|    2.0|This is my 6th pa...| 01 5, 2017| AW8UBYMNJ894V|Cognizant Consumer|{null,  Men's 8-8...|Not the same as a...|    1483574400|    true|null|\n",
      "|B000KPIHQ4| null|    5.0|We have used thes...|10 17, 2016|A265UZVOZWTTXQ|    William_Jasper|                null|       Great inserts|    1476662400|    true|null|\n",
      "|B000KPIHQ4| null|    5.0|Pinnacle seems to...|08 22, 2016| AW8UBYMNJ894V|Cognizant Consumer|                null|   Personal favorite|    1471824000|    true|null|\n",
      "|B000KPIHQ4| null|    5.0|Excellent insole ...|03 23, 2016|A265UZVOZWTTXQ|    William_Jasper|                null|          Five Stars|    1458691200|    true|null|\n",
      "|B000KPIHQ4| null|    5.0|A little more cus...|06 24, 2015| AW8UBYMNJ894V|Cognizant Consumer|                null|      Great comfort!|    1435104000|    true|null|\n",
      "|B000KPIHQ4| null|    5.0|These insoles hel...|11 17, 2014|A265UZVOZWTTXQ|    William_Jasper|                null|These insoles hel...|    1416182400|    true|null|\n",
      "|B000V0IBDM| null|    2.0|Relieved my Plant...|01 25, 2018|A3HX4X3TIABWOV|   Denise A. Conte|                null|These were recomm...|    1516838400|    true|null|\n",
      "|B000V0IBDM| null|    2.0|This is my 6th pa...| 01 5, 2017| AW8UBYMNJ894V|Cognizant Consumer|                null|Not the same as a...|    1483574400|    true|null|\n",
      "|B000V0IBDM| null|    5.0|We have used thes...|10 17, 2016|A265UZVOZWTTXQ|    William_Jasper|                null|       Great inserts|    1476662400|    true|null|\n",
      "+----------+-----+-------+--------------------+-----------+--------------+------------------+--------------------+--------------------+--------------+--------+----+\n",
      "only showing top 20 rows\n",
      "\n"
     ]
    }
   ],
   "source": [
    "data.show()"
   ]
  },
  {
   "cell_type": "code",
   "execution_count": 5,
   "id": "6f7ffbcf",
   "metadata": {
    "scrolled": true
   },
   "outputs": [
    {
     "data": {
      "text/plain": [
       "3176"
      ]
     },
     "execution_count": 5,
     "metadata": {},
     "output_type": "execute_result"
    }
   ],
   "source": [
    "data.count()"
   ]
  },
  {
   "cell_type": "code",
   "execution_count": 6,
   "id": "027a197c",
   "metadata": {
    "scrolled": true
   },
   "outputs": [
    {
     "name": "stderr",
     "output_type": "stream",
     "text": [
      "                                                                                \r"
     ]
    },
    {
     "data": {
      "text/plain": [
       "3108"
      ]
     },
     "execution_count": 6,
     "metadata": {},
     "output_type": "execute_result"
    }
   ],
   "source": [
    "data.distinct().count()"
   ]
  },
  {
   "cell_type": "markdown",
   "id": "271cd426",
   "metadata": {},
   "source": [
    "### Prep data"
   ]
  },
  {
   "cell_type": "code",
   "execution_count": 7,
   "id": "4856efa6",
   "metadata": {},
   "outputs": [],
   "source": [
    "data = data.distinct()"
   ]
  },
  {
   "cell_type": "code",
   "execution_count": 8,
   "id": "f1786899",
   "metadata": {},
   "outputs": [
    {
     "name": "stdout",
     "output_type": "stream",
     "text": [
      "+----------+--------------------+-------+--------------------+-----------+--------------+------------------+--------------------+--------------------+--------------+--------+----+\n",
      "|      asin|               image|overall|          reviewText| reviewTime|    reviewerID|      reviewerName|               style|             summary|unixReviewTime|verified|vote|\n",
      "+----------+--------------------+-------+--------------------+-----------+--------------+------------------+--------------------+--------------------+--------------+--------+----+\n",
      "|B001IKJOLW|                null|    5.0|Great shoe. I've ...|04 15, 2018|A3P9DECTULU1B3|                JP|{ Black/White/Ant...|         Great shoe!|    1523750400|    true|null|\n",
      "|B001IKJOLW|[https://images-n...|    5.0|They were a gift ...|02 20, 2018|A3RNGBSBRJ3YAQ|    Andrea L Hogan|{ Wolf Grey/Black...| Their Cute and Pink|    1519084800|    true|null|\n",
      "|B0058YEJ5K|                null|    5.0| i love these shoes.|02 12, 2018|A2UALK0MY7S3C2|            salina|{ Energy/Mtlc Sil...|          Five Stars|    1518393600|    true|null|\n",
      "|B0058YEJ5K|                null|    5.0|Really comfortabl...|10 25, 2016|A3CXL2P49AQQRH|     Sofiya kantor|{ black, null,  6...|          Five Stars|    1477353600|    true|null|\n",
      "|B0014F7B98|                null|    4.0|I needed a wide s...| 03 8, 2017|A37K0VP2H8FKOU|   Amazon Customer|{ Wolf Grey/Plati...|Not quite wide en...|    1488931200|    true|null|\n",
      "|B009MA34NY|[https://images-n...|    1.0|Artculo equivocad...|01 10, 2018|A23TE15JI8Q2YQ|             sonia|{ Racer Blue/Obsi...|            One Star|    1515542400|    true|null|\n",
      "|B009MA34NY|                null|    5.0|BEST sneakers I'v...|08 17, 2017|A1OK7HI3YI9682|             Mel B|{ Black/White/Ant...|          Five Stars|    1502928000|    true|null|\n",
      "|B009MA34NY|                null|    5.0|Very nice shoes. ...| 04 5, 2017| ADLAYE3PNYFJM|           Rosi B.|{ Black/White/Ant...|          Five Stars|    1491350400|    true|null|\n",
      "|B009MA34NY|                null|    5.0|These sneakers gi...| 08 8, 2016|A36XF6818PQ4DJ|         Sydney S.|{ Black/White/Ant...|... me the motiva...|    1470614400|    true|null|\n",
      "|B0092UF54A|                null|    3.0|Great look but ze...|03 27, 2018|A1R9CFF27RIALC|          Danielle|{ Wolf Grey/Black...|Style 10/10, Comf...|    1522108800|    true|null|\n",
      "|B0092UF54A|                null|    3.0|Not sure why, but...|11 28, 2017|A22FYN2DKXSWS0|      APrime Tower|{ black, null,  6...|Not sure why, but...|    1511827200|    true|null|\n",
      "|B005AGO4LU|                null|    5.0|The fit was perfe...|09 25, 2017|A3V6I3EA3X3SCE|          M Corrie|{ Black/White/Ant...|          Five Stars|    1506297600|    true|null|\n",
      "|B005AGO4LU|                null|    5.0|I've been using t...| 05 5, 2017|A24DSR6Y3A08QM|          Luiza A.|{ Cool Grey/Volt-...|I've been using t...|    1493942400|    true|null|\n",
      "|B005AGO4LU|                null|    5.0|       just do it :)|04 11, 2017| AT72GRKOXVE25|     Cristian Sosa|{ Cool Grey / Vol...|          Five Stars|    1491868800|    true|null|\n",
      "|B005AGO4LU|                null|    5.0|Love my new Nike'...| 07 1, 2016|A3QX1A6IPFQTN9|    Campsandalwood|{ Ocean Fog/Blue ...|           Nice shoe|    1467331200|    true|   5|\n",
      "|B010RRWKT4|                null|    5.0|Favorite Nikes ev...|11 11, 2016| A3DIMXA53RL7P|          B Savage|{ Hyper Jade/Mtlc...| Favorite Nikes ever|    1478822400|    true|null|\n",
      "|B010RRWKT4|                null|    5.0|The sneakers are ...|04 23, 2016| AT5OQFDS6PEE1|      H. Heckstall|{ Black/White/Ant...|          Five Stars|    1461369600|    true|null|\n",
      "|B000YFSR4W|                null|    2.0|Nice pants but to...|02 21, 2017| ABX2R8Q6GBTJ8|          Sammy C.|{ Navy, null,  Me...|            Returned|    1487635200|    true|null|\n",
      "|B001IKJOLW|                null|    5.0|Love them! Fit ex...| 06 2, 2017|A3W0GO31B8Y2KE|Kristin Swearengen|{ Black/White/Ant...|          Five Stars|    1496361600|    true|null|\n",
      "|B0014F7B98|                null|    5.0|Put them on and w...|03 20, 2016|A3ONF0JD2UBP54| Denise L Woodruff|{ Bright Mango/Cr...|Love them! So lig...|    1458432000|    true|null|\n",
      "+----------+--------------------+-------+--------------------+-----------+--------------+------------------+--------------------+--------------------+--------------+--------+----+\n",
      "only showing top 20 rows\n",
      "\n"
     ]
    }
   ],
   "source": [
    "data.show()"
   ]
  },
  {
   "cell_type": "code",
   "execution_count": 9,
   "id": "e7a92e20",
   "metadata": {
    "scrolled": true
   },
   "outputs": [
    {
     "name": "stdout",
     "output_type": "stream",
     "text": [
      "root\n",
      " |-- asin: string (nullable = true)\n",
      " |-- image: array (nullable = true)\n",
      " |    |-- element: string (containsNull = true)\n",
      " |-- overall: double (nullable = true)\n",
      " |-- reviewText: string (nullable = true)\n",
      " |-- reviewTime: string (nullable = true)\n",
      " |-- reviewerID: string (nullable = true)\n",
      " |-- reviewerName: string (nullable = true)\n",
      " |-- style: struct (nullable = true)\n",
      " |    |-- Color:: string (nullable = true)\n",
      " |    |-- Size Name:: string (nullable = true)\n",
      " |    |-- Size:: string (nullable = true)\n",
      " |    |-- Style:: string (nullable = true)\n",
      " |-- summary: string (nullable = true)\n",
      " |-- unixReviewTime: long (nullable = true)\n",
      " |-- verified: boolean (nullable = true)\n",
      " |-- vote: string (nullable = true)\n",
      "\n"
     ]
    }
   ],
   "source": [
    "data.printSchema()"
   ]
  },
  {
   "cell_type": "code",
   "execution_count": 10,
   "id": "60ffb9cc",
   "metadata": {
    "scrolled": true
   },
   "outputs": [
    {
     "name": "stdout",
     "output_type": "stream",
     "text": [
      "+--------------------+-------+\n",
      "|          reviewText|overall|\n",
      "+--------------------+-------+\n",
      "|Great shoe. I've ...|    5.0|\n",
      "|They were a gift ...|    5.0|\n",
      "| i love these shoes.|    5.0|\n",
      "|Really comfortabl...|    5.0|\n",
      "|I needed a wide s...|    4.0|\n",
      "|Artculo equivocad...|    1.0|\n",
      "|BEST sneakers I'v...|    5.0|\n",
      "|Very nice shoes. ...|    5.0|\n",
      "|These sneakers gi...|    5.0|\n",
      "|Great look but ze...|    3.0|\n",
      "|Not sure why, but...|    3.0|\n",
      "|The fit was perfe...|    5.0|\n",
      "|I've been using t...|    5.0|\n",
      "|       just do it :)|    5.0|\n",
      "|Love my new Nike'...|    5.0|\n",
      "|Favorite Nikes ev...|    5.0|\n",
      "|The sneakers are ...|    5.0|\n",
      "|Nice pants but to...|    2.0|\n",
      "|Love them! Fit ex...|    5.0|\n",
      "|Put them on and w...|    5.0|\n",
      "+--------------------+-------+\n",
      "only showing top 20 rows\n",
      "\n"
     ]
    }
   ],
   "source": [
    "reviews = data.select(['reviewText','overall'])\n",
    "reviews.show()"
   ]
  },
  {
   "cell_type": "code",
   "execution_count": 11,
   "id": "3e6fbfa3",
   "metadata": {
    "scrolled": true
   },
   "outputs": [
    {
     "name": "stdout",
     "output_type": "stream",
     "text": [
      "+-------+-----+\n",
      "|overall|count|\n",
      "+-------+-----+\n",
      "|    1.0|  111|\n",
      "|    4.0|  456|\n",
      "|    3.0|  322|\n",
      "|    2.0|   84|\n",
      "|    5.0| 2135|\n",
      "+-------+-----+\n",
      "\n"
     ]
    }
   ],
   "source": [
    "reviews.groupBy('overall').count().show()"
   ]
  },
  {
   "cell_type": "code",
   "execution_count": 12,
   "id": "dd673e21",
   "metadata": {
    "scrolled": true
   },
   "outputs": [
    {
     "data": {
      "text/plain": [
       "[Row(reviewText=\"Great shoe. I've had Nike's before and have always been pleased with the comfort, performance, and quality. Though I will say this was the first time I ordered a pair online without trying them on first, so I was nervous. But this turned out to be a great choice. Breathable, lightweight but sturdy, and comfortable during all my workouts. The built-in arch support is great and I've had no discomfort after 2 weeks of use. As far as the sole thickness and cushioning goes, I would consider these a 'medium' build (not thin, not overly thick) so if you're into heavy running outdoors then take that into consideration. Everyone is different in their preference for cushioning, but I think for light runs on a treadmill they would be sufficient. Love these, highly recommend!\", overall=5.0),\n",
       " Row(reviewText='They were a gift  to my daughter she loved them', overall=5.0),\n",
       " Row(reviewText='i love these shoes.', overall=5.0),\n",
       " Row(reviewText='Really comfortable and very cute.', overall=5.0),\n",
       " Row(reviewText=\"I needed a wide size, that option was not available. So I went up a half size bigger hoping that would work. It's not quite comfortable but I am  able to wear them. I like the shoes.\", overall=4.0)]"
      ]
     },
     "execution_count": 12,
     "metadata": {},
     "output_type": "execute_result"
    }
   ],
   "source": [
    "reviews.take(5)"
   ]
  },
  {
   "cell_type": "code",
   "execution_count": 13,
   "id": "fc5b9bb8",
   "metadata": {},
   "outputs": [
    {
     "data": {
      "text/plain": [
       "'Artculo equivocado en color'"
      ]
     },
     "execution_count": 13,
     "metadata": {},
     "output_type": "execute_result"
    }
   ],
   "source": [
    "reviews.collect()[5][0]"
   ]
  },
  {
   "cell_type": "code",
   "execution_count": 14,
   "id": "e3c10b62",
   "metadata": {},
   "outputs": [
    {
     "data": {
      "text/plain": [
       "Row(reviewText='Artculo equivocado en color')"
      ]
     },
     "execution_count": 14,
     "metadata": {},
     "output_type": "execute_result"
    }
   ],
   "source": [
    "reviews.select(['reviewText']).collect()[5]"
   ]
  },
  {
   "cell_type": "code",
   "execution_count": 15,
   "id": "2609574c",
   "metadata": {
    "scrolled": false
   },
   "outputs": [
    {
     "name": "stdout",
     "output_type": "stream",
     "text": [
      "+----------+-------+\n",
      "|reviewText|overall|\n",
      "+----------+-------+\n",
      "|        16|      0|\n",
      "+----------+-------+\n",
      "\n"
     ]
    }
   ],
   "source": [
    "from pyspark.sql.functions import isnan, col, when, count\n",
    "df = reviews \n",
    "df.select([count(when(isnan(c) | col(c).isNull(), c)).alias(c) for c in df.columns]).show()"
   ]
  },
  {
   "cell_type": "code",
   "execution_count": 16,
   "id": "91107d93",
   "metadata": {},
   "outputs": [
    {
     "data": {
      "text/plain": [
       "3092"
      ]
     },
     "execution_count": 16,
     "metadata": {},
     "output_type": "execute_result"
    }
   ],
   "source": [
    "reviews = reviews.dropna(how='any', subset=['reviewText'])\n",
    "reviews.count()"
   ]
  },
  {
   "cell_type": "code",
   "execution_count": 17,
   "id": "2ae7eb37",
   "metadata": {
    "scrolled": false
   },
   "outputs": [
    {
     "name": "stdout",
     "output_type": "stream",
     "text": [
      "+--------------------+------+\n",
      "|          reviewText|length|\n",
      "+--------------------+------+\n",
      "|Great shoe. I've ...|   774|\n",
      "|They were a gift ...|    47|\n",
      "| i love these shoes.|    19|\n",
      "|Really comfortabl...|    33|\n",
      "|I needed a wide s...|   182|\n",
      "|Artculo equivocad...|    27|\n",
      "|BEST sneakers I'v...|    37|\n",
      "|Very nice shoes. ...|    30|\n",
      "|These sneakers gi...|   105|\n",
      "|Great look but ze...|   121|\n",
      "|Not sure why, but...|   194|\n",
      "|The fit was perfe...|    50|\n",
      "|I've been using t...|   110|\n",
      "|       just do it :)|    13|\n",
      "|Love my new Nike'...|   378|\n",
      "|Favorite Nikes ev...|   133|\n",
      "|The sneakers are ...|    50|\n",
      "|Nice pants but to...|    51|\n",
      "|Love them! Fit ex...|    91|\n",
      "|Put them on and w...|    75|\n",
      "+--------------------+------+\n",
      "only showing top 20 rows\n",
      "\n"
     ]
    }
   ],
   "source": [
    "from pyspark.sql.functions import length\n",
    "reviews = reviews.withColumn('length', length(reviews['reviewText']))\n",
    "reviews.select(['reviewText','length']).show()"
   ]
  },
  {
   "cell_type": "markdown",
   "id": "b40dec96",
   "metadata": {},
   "source": [
    "### Create Sentiment Label"
   ]
  },
  {
   "cell_type": "code",
   "execution_count": 18,
   "id": "4a68ef80",
   "metadata": {},
   "outputs": [
    {
     "name": "stdout",
     "output_type": "stream",
     "text": [
      "+-------+---------+\n",
      "|overall|sentiment|\n",
      "+-------+---------+\n",
      "|    5.0| POSITIVE|\n",
      "|    5.0| POSITIVE|\n",
      "|    5.0| POSITIVE|\n",
      "|    5.0| POSITIVE|\n",
      "|    4.0| POSITIVE|\n",
      "|    1.0| NEGATIVE|\n",
      "|    5.0| POSITIVE|\n",
      "|    5.0| POSITIVE|\n",
      "|    5.0| POSITIVE|\n",
      "|    3.0|  NEUTRAL|\n",
      "|    3.0|  NEUTRAL|\n",
      "|    5.0| POSITIVE|\n",
      "|    5.0| POSITIVE|\n",
      "|    5.0| POSITIVE|\n",
      "|    5.0| POSITIVE|\n",
      "|    5.0| POSITIVE|\n",
      "|    5.0| POSITIVE|\n",
      "|    2.0| NEGATIVE|\n",
      "|    5.0| POSITIVE|\n",
      "|    5.0| POSITIVE|\n",
      "+-------+---------+\n",
      "only showing top 20 rows\n",
      "\n"
     ]
    }
   ],
   "source": [
    "from pyspark.sql.functions import when\n",
    "\n",
    "reviews.createOrReplaceTempView('df')\n",
    "reviews = spark.sql(\"SELECT *, (CASE WHEN overall <= 2 THEN 'NEGATIVE' WHEN overall == 3 THEN 'NEUTRAL'ELSE 'POSITIVE' END) As sentiment FROM df\")\n",
    "reviews.select(['overall', 'sentiment']).show()"
   ]
  },
  {
   "cell_type": "code",
   "execution_count": 19,
   "id": "c5aaa154",
   "metadata": {
    "scrolled": false
   },
   "outputs": [
    {
     "name": "stdout",
     "output_type": "stream",
     "text": [
      "root\n",
      " |-- reviewText: string (nullable = true)\n",
      " |-- overall: double (nullable = true)\n",
      " |-- length: integer (nullable = true)\n",
      " |-- sentiment: string (nullable = false)\n",
      "\n"
     ]
    }
   ],
   "source": [
    "reviews.printSchema()"
   ]
  },
  {
   "cell_type": "code",
   "execution_count": 20,
   "id": "45cc3849",
   "metadata": {
    "scrolled": true
   },
   "outputs": [
    {
     "name": "stdout",
     "output_type": "stream",
     "text": [
      "+---------+-----+\n",
      "|sentiment|count|\n",
      "+---------+-----+\n",
      "| POSITIVE| 2575|\n",
      "| NEGATIVE|  195|\n",
      "|  NEUTRAL|  322|\n",
      "+---------+-----+\n",
      "\n"
     ]
    }
   ],
   "source": [
    "reviews.groupBy('sentiment').count().show()"
   ]
  },
  {
   "cell_type": "code",
   "execution_count": 21,
   "id": "f378e727",
   "metadata": {
    "scrolled": true
   },
   "outputs": [
    {
     "name": "stdout",
     "output_type": "stream",
     "text": [
      "+---------+------------------+------------------+\n",
      "|sentiment|      avg(overall)|       avg(length)|\n",
      "+---------+------------------+------------------+\n",
      "| POSITIVE| 4.822912621359223|125.97669902912621|\n",
      "| NEGATIVE|1.4307692307692308|142.31794871794872|\n",
      "|  NEUTRAL|               3.0| 182.1024844720497|\n",
      "+---------+------------------+------------------+\n",
      "\n"
     ]
    }
   ],
   "source": [
    "reviews.groupBy('sentiment').mean().show()   # No significant difference in lengths of positive and negative reviews"
   ]
  },
  {
   "cell_type": "code",
   "execution_count": 22,
   "id": "c6b7646c",
   "metadata": {},
   "outputs": [],
   "source": [
    "reviews = reviews.drop('length')  "
   ]
  },
  {
   "cell_type": "code",
   "execution_count": 23,
   "id": "2a06dbb1",
   "metadata": {
    "scrolled": true
   },
   "outputs": [
    {
     "data": {
      "text/plain": [
       "['reviewText', 'overall', 'sentiment']"
      ]
     },
     "execution_count": 23,
     "metadata": {},
     "output_type": "execute_result"
    }
   ],
   "source": [
    "reviews.columns"
   ]
  },
  {
   "cell_type": "markdown",
   "id": "f9123d40",
   "metadata": {},
   "source": [
    "### Feature transformation"
   ]
  },
  {
   "cell_type": "code",
   "execution_count": 24,
   "id": "54416e43",
   "metadata": {},
   "outputs": [],
   "source": [
    "from pyspark.ml.feature import Tokenizer, StopWordsRemover, CountVectorizer, IDF, StringIndexer\n",
    "\n",
    "tokenizer = Tokenizer(inputCol='reviewText', outputCol='token_reviewText')\n",
    "stopremove = StopWordsRemover(inputCol='token_reviewText', outputCol='stop_tokens')\n",
    "cv = CountVectorizer(inputCol='stop_tokens', outputCol='c_vec')\n",
    "idf = IDF(inputCol='c_vec', outputCol='features')\n",
    "\n",
    "sentiment_to_num = StringIndexer(inputCol='sentiment', outputCol='label')     "
   ]
  },
  {
   "cell_type": "code",
   "execution_count": 25,
   "id": "3ab8ee40",
   "metadata": {
    "scrolled": true
   },
   "outputs": [
    {
     "name": "stdout",
     "output_type": "stream",
     "text": [
      "+--------------------+-------+---------+--------------------+\n",
      "|          reviewText|overall|sentiment|    token_reviewText|\n",
      "+--------------------+-------+---------+--------------------+\n",
      "|Great shoe. I've ...|    5.0| POSITIVE|[great, shoe., i'...|\n",
      "|They were a gift ...|    5.0| POSITIVE|[they, were, a, g...|\n",
      "| i love these shoes.|    5.0| POSITIVE|[i, love, these, ...|\n",
      "|Really comfortabl...|    5.0| POSITIVE|[really, comforta...|\n",
      "|I needed a wide s...|    4.0| POSITIVE|[i, needed, a, wi...|\n",
      "|Artculo equivocad...|    1.0| NEGATIVE|[artculo, equivoc...|\n",
      "|BEST sneakers I'v...|    5.0| POSITIVE|[best, sneakers, ...|\n",
      "|Very nice shoes. ...|    5.0| POSITIVE|[very, nice, shoe...|\n",
      "|These sneakers gi...|    5.0| POSITIVE|[these, sneakers,...|\n",
      "|Great look but ze...|    3.0|  NEUTRAL|[great, look, but...|\n",
      "|Not sure why, but...|    3.0|  NEUTRAL|[not, sure, why,,...|\n",
      "|The fit was perfe...|    5.0| POSITIVE|[the, fit, was, p...|\n",
      "|I've been using t...|    5.0| POSITIVE|[i've, been, usin...|\n",
      "|       just do it :)|    5.0| POSITIVE|  [just, do, it, :)]|\n",
      "|Love my new Nike'...|    5.0| POSITIVE|[love, my, new, n...|\n",
      "|Favorite Nikes ev...|    5.0| POSITIVE|[favorite, nikes,...|\n",
      "|The sneakers are ...|    5.0| POSITIVE|[the, sneakers, a...|\n",
      "|Nice pants but to...|    2.0| NEGATIVE|[nice, pants, but...|\n",
      "|Love them! Fit ex...|    5.0| POSITIVE|[love, them!, fit...|\n",
      "|Put them on and w...|    5.0| POSITIVE|[put, them, on, a...|\n",
      "+--------------------+-------+---------+--------------------+\n",
      "only showing top 20 rows\n",
      "\n"
     ]
    }
   ],
   "source": [
    "token = tokenizer.transform(reviews)\n",
    "token.show()"
   ]
  },
  {
   "cell_type": "code",
   "execution_count": 26,
   "id": "812d1969",
   "metadata": {
    "scrolled": true
   },
   "outputs": [
    {
     "name": "stdout",
     "output_type": "stream",
     "text": [
      "+--------------------+-------+---------+--------------------+--------------------+\n",
      "|          reviewText|overall|sentiment|    token_reviewText|         stop_tokens|\n",
      "+--------------------+-------+---------+--------------------+--------------------+\n",
      "|Great shoe. I've ...|    5.0| POSITIVE|[great, shoe., i'...|[great, shoe., ni...|\n",
      "|They were a gift ...|    5.0| POSITIVE|[they, were, a, g...|[gift, , daughter...|\n",
      "| i love these shoes.|    5.0| POSITIVE|[i, love, these, ...|      [love, shoes.]|\n",
      "|Really comfortabl...|    5.0| POSITIVE|[really, comforta...|[really, comforta...|\n",
      "|I needed a wide s...|    4.0| POSITIVE|[i, needed, a, wi...|[needed, wide, si...|\n",
      "|Artculo equivocad...|    1.0| NEGATIVE|[artculo, equivoc...|[artculo, equivoc...|\n",
      "|BEST sneakers I'v...|    5.0| POSITIVE|[best, sneakers, ...|[best, sneakers, ...|\n",
      "|Very nice shoes. ...|    5.0| POSITIVE|[very, nice, shoe...|[nice, shoes., , ...|\n",
      "|These sneakers gi...|    5.0| POSITIVE|[these, sneakers,...|[sneakers, give, ...|\n",
      "|Great look but ze...|    3.0|  NEUTRAL|[great, look, but...|[great, look, zer...|\n",
      "|Not sure why, but...|    3.0|  NEUTRAL|[not, sure, why,,...|[sure, why,, mid,...|\n",
      "|The fit was perfe...|    5.0| POSITIVE|[the, fit, was, p...|[fit, perfect!, h...|\n",
      "|I've been using t...|    5.0| POSITIVE|[i've, been, usin...|[using, exercise,...|\n",
      "|       just do it :)|    5.0| POSITIVE|  [just, do, it, :)]|                [:)]|\n",
      "|Love my new Nike'...|    5.0| POSITIVE|[love, my, new, n...|[love, new, nike'...|\n",
      "|Favorite Nikes ev...|    5.0| POSITIVE|[favorite, nikes,...|[favorite, nikes,...|\n",
      "|The sneakers are ...|    5.0| POSITIVE|[the, sneakers, a...|[sneakers, comfor...|\n",
      "|Nice pants but to...|    2.0| NEGATIVE|[nice, pants, but...|[nice, pants, sma...|\n",
      "|Love them! Fit ex...|    5.0| POSITIVE|[love, them!, fit...|[love, them!, fit...|\n",
      "|Put them on and w...|    5.0| POSITIVE|[put, them, on, a...|[put, walked, 3, ...|\n",
      "+--------------------+-------+---------+--------------------+--------------------+\n",
      "only showing top 20 rows\n",
      "\n"
     ]
    }
   ],
   "source": [
    "stopremove.transform(token).show()"
   ]
  },
  {
   "cell_type": "markdown",
   "id": "33b86f6e",
   "metadata": {},
   "source": [
    "### Pipeline"
   ]
  },
  {
   "cell_type": "code",
   "execution_count": 27,
   "id": "52b8b1f3",
   "metadata": {},
   "outputs": [],
   "source": [
    "from pyspark.ml import Pipeline"
   ]
  },
  {
   "cell_type": "code",
   "execution_count": 28,
   "id": "650cc38c",
   "metadata": {},
   "outputs": [],
   "source": [
    "data_prep_pipe = Pipeline(stages=[tokenizer, stopremove, cv, idf, sentiment_to_num])"
   ]
  },
  {
   "cell_type": "code",
   "execution_count": 29,
   "id": "a04e9c29",
   "metadata": {
    "scrolled": true
   },
   "outputs": [
    {
     "name": "stderr",
     "output_type": "stream",
     "text": [
      "                                                                                \r"
     ]
    },
    {
     "name": "stdout",
     "output_type": "stream",
     "text": [
      "+--------------------+-------+---------+--------------------+--------------------+--------------------+--------------------+-----+\n",
      "|          reviewText|overall|sentiment|    token_reviewText|         stop_tokens|               c_vec|            features|label|\n",
      "+--------------------+-------+---------+--------------------+--------------------+--------------------+--------------------+-----+\n",
      "|Great shoe. I've ...|    5.0| POSITIVE|[great, shoe., i'...|[great, shoe., ni...|(1954,[2,4,5,9,14...|(1954,[2,4,5,9,14...|  0.0|\n",
      "|They were a gift ...|    5.0| POSITIVE|[they, were, a, g...|[gift, , daughter...|(1954,[0,98,100,3...|(1954,[0,98,100,3...|  0.0|\n",
      "| i love these shoes.|    5.0| POSITIVE|[i, love, these, ...|      [love, shoes.]|(1954,[2,13],[1.0...|(1954,[2,13],[1.4...|  0.0|\n",
      "|Really comfortabl...|    5.0| POSITIVE|[really, comforta...|[really, comforta...|(1954,[4,16,437],...|(1954,[4,16,437],...|  0.0|\n",
      "|I needed a wide s...|    4.0| POSITIVE|[i, needed, a, wi...|[needed, wide, si...|(1954,[0,4,7,8,11...|(1954,[0,4,7,8,11...|  0.0|\n",
      "|Artculo equivocad...|    1.0| NEGATIVE|[artculo, equivoc...|[artculo, equivoc...|(1954,[39,1088,12...|(1954,[39,1088,12...|  2.0|\n",
      "|BEST sneakers I'v...|    5.0| POSITIVE|[best, sneakers, ...|[best, sneakers, ...|(1954,[56,123,132...|(1954,[56,123,132...|  0.0|\n",
      "|Very nice shoes. ...|    5.0| POSITIVE|[very, nice, shoe...|[nice, shoes., , ...|(1954,[0,13,17,20...|(1954,[0,13,17,20...|  0.0|\n",
      "|These sneakers gi...|    5.0| POSITIVE|[these, sneakers,...|[sneakers, give, ...|(1954,[5,12,21,35...|(1954,[5,12,21,35...|  0.0|\n",
      "|Great look but ze...|    3.0|  NEUTRAL|[great, look, but...|[great, look, zer...|(1954,[5,18,19,24...|(1954,[5,18,19,24...|  1.0|\n",
      "|Not sure why, but...|    3.0|  NEUTRAL|[not, sure, why,,...|[sure, why,, mid,...|(1954,[1,18,27,46...|(1954,[1,18,27,46...|  1.0|\n",
      "|The fit was perfe...|    5.0| POSITIVE|[the, fit, was, p...|[fit, perfect!, h...|(1954,[3,24,75,87...|(1954,[3,24,75,87...|  0.0|\n",
      "|I've been using t...|    5.0| POSITIVE|[i've, been, usin...|[using, exercise,...|(1954,[2,10,20,51...|(1954,[2,10,20,51...|  0.0|\n",
      "|       just do it :)|    5.0| POSITIVE|  [just, do, it, :)]|                [:)]|  (1954,[201],[1.0])|(1954,[201],[4.32...|  0.0|\n",
      "|Love my new Nike'...|    5.0| POSITIVE|[love, my, new, n...|[love, new, nike'...|(1954,[0,2,6,11,3...|(1954,[0,2,6,11,3...|  0.0|\n",
      "|Favorite Nikes ev...|    5.0| POSITIVE|[favorite, nikes,...|[favorite, nikes,...|(1954,[2,3,14,39,...|(1954,[2,3,14,39,...|  0.0|\n",
      "|The sneakers are ...|    5.0| POSITIVE|[the, sneakers, a...|[sneakers, comfor...|(1954,[3,4,56,62]...|(1954,[3,4,56,62]...|  0.0|\n",
      "|Nice pants but to...|    2.0| NEGATIVE|[nice, pants, but...|[nice, pants, sma...|(1954,[20,149,150...|(1954,[20,149,150...|  2.0|\n",
      "|Love them! Fit ex...|    5.0| POSITIVE|[love, them!, fit...|[love, them!, fit...|(1954,[2,3,49,55,...|(1954,[2,3,49,55,...|  0.0|\n",
      "|Put them on and w...|    5.0| POSITIVE|[put, them, on, a...|[put, walked, 3, ...|(1954,[2,9,55,153...|(1954,[2,9,55,153...|  0.0|\n",
      "+--------------------+-------+---------+--------------------+--------------------+--------------------+--------------------+-----+\n",
      "only showing top 20 rows\n",
      "\n"
     ]
    }
   ],
   "source": [
    "data_clean = data_prep_pipe.fit(reviews).transform(reviews)\n",
    "data_clean.show()"
   ]
  },
  {
   "cell_type": "code",
   "execution_count": 30,
   "id": "1421691f",
   "metadata": {},
   "outputs": [
    {
     "data": {
      "text/plain": [
       "Row(reviewText=\"Great shoe. I've had Nike's before and have always been pleased with the comfort, performance, and quality. Though I will say this was the first time I ordered a pair online without trying them on first, so I was nervous. But this turned out to be a great choice. Breathable, lightweight but sturdy, and comfortable during all my workouts. The built-in arch support is great and I've had no discomfort after 2 weeks of use. As far as the sole thickness and cushioning goes, I would consider these a 'medium' build (not thin, not overly thick) so if you're into heavy running outdoors then take that into consideration. Everyone is different in their preference for cushioning, but I think for light runs on a treadmill they would be sufficient. Love these, highly recommend!\", overall=5.0, sentiment='POSITIVE', token_reviewText=['great', 'shoe.', \"i've\", 'had', \"nike's\", 'before', 'and', 'have', 'always', 'been', 'pleased', 'with', 'the', 'comfort,', 'performance,', 'and', 'quality.', 'though', 'i', 'will', 'say', 'this', 'was', 'the', 'first', 'time', 'i', 'ordered', 'a', 'pair', 'online', 'without', 'trying', 'them', 'on', 'first,', 'so', 'i', 'was', 'nervous.', 'but', 'this', 'turned', 'out', 'to', 'be', 'a', 'great', 'choice.', 'breathable,', 'lightweight', 'but', 'sturdy,', 'and', 'comfortable', 'during', 'all', 'my', 'workouts.', 'the', 'built-in', 'arch', 'support', 'is', 'great', 'and', \"i've\", 'had', 'no', 'discomfort', 'after', '2', 'weeks', 'of', 'use.', 'as', 'far', 'as', 'the', 'sole', 'thickness', 'and', 'cushioning', 'goes,', 'i', 'would', 'consider', 'these', 'a', \"'medium'\", 'build', '(not', 'thin,', 'not', 'overly', 'thick)', 'so', 'if', \"you're\", 'into', 'heavy', 'running', 'outdoors', 'then', 'take', 'that', 'into', 'consideration.', 'everyone', 'is', 'different', 'in', 'their', 'preference', 'for', 'cushioning,', 'but', 'i', 'think', 'for', 'light', 'runs', 'on', 'a', 'treadmill', 'they', 'would', 'be', 'sufficient.', 'love', 'these,', 'highly', 'recommend!'], stop_tokens=['great', 'shoe.', \"nike's\", 'always', 'pleased', 'comfort,', 'performance,', 'quality.', 'though', 'say', 'first', 'time', 'ordered', 'pair', 'online', 'without', 'trying', 'first,', 'nervous.', 'turned', 'great', 'choice.', 'breathable,', 'lightweight', 'sturdy,', 'comfortable', 'workouts.', 'built-in', 'arch', 'support', 'great', 'discomfort', '2', 'weeks', 'use.', 'far', 'sole', 'thickness', 'cushioning', 'goes,', 'consider', \"'medium'\", 'build', '(not', 'thin,', 'overly', 'thick)', 'heavy', 'running', 'outdoors', 'take', 'consideration.', 'everyone', 'different', 'preference', 'cushioning,', 'think', 'light', 'runs', 'treadmill', 'sufficient.', 'love', 'these,', 'highly', 'recommend!'], c_vec=SparseVector(1954, {2: 1.0, 4: 1.0, 5: 3.0, 9: 1.0, 14: 1.0, 19: 1.0, 24: 1.0, 36: 1.0, 38: 1.0, 41: 1.0, 42: 1.0, 45: 1.0, 54: 1.0, 67: 1.0, 70: 1.0, 75: 1.0, 85: 1.0, 101: 1.0, 117: 1.0, 155: 1.0, 185: 1.0, 190: 1.0, 212: 1.0, 231: 1.0, 258: 1.0, 283: 1.0, 294: 1.0, 303: 1.0, 304: 1.0, 327: 1.0, 343: 1.0, 350: 1.0, 355: 1.0, 381: 1.0, 406: 1.0, 407: 1.0, 423: 1.0, 450: 1.0, 451: 1.0, 453: 1.0, 605: 1.0, 664: 1.0, 677: 1.0, 693: 1.0, 755: 1.0, 803: 1.0, 851: 1.0, 943: 1.0, 1018: 1.0, 1058: 1.0, 1099: 1.0, 1103: 1.0, 1150: 1.0, 1152: 1.0, 1212: 1.0, 1235: 1.0, 1290: 1.0, 1296: 1.0, 1377: 1.0, 1404: 1.0, 1500: 1.0, 1536: 1.0, 1567: 1.0}), features=SparseVector(1954, {2: 1.4452, 4: 1.7107, 5: 5.7564, 9: 2.1704, 14: 2.4917, 19: 2.657, 24: 2.968, 36: 3.1771, 38: 3.2329, 41: 3.1541, 42: 3.2833, 45: 3.3095, 54: 3.3829, 67: 3.4622, 70: 3.6181, 75: 3.5483, 85: 3.6549, 101: 3.7464, 117: 3.8625, 155: 4.1051, 185: 4.2992, 190: 4.3233, 212: 4.3993, 231: 4.5105, 258: 4.5404, 283: 4.6029, 294: 4.7047, 303: 4.7411, 304: 4.7411, 327: 4.818, 343: 4.818, 350: 4.818, 355: 4.818, 381: 4.8588, 406: 5.0925, 407: 5.0925, 423: 5.2037, 450: 5.2037, 451: 5.2037, 453: 5.2037, 605: 5.2037, 664: 5.7343, 677: 5.7343, 693: 5.8397, 755: 5.8397, 803: 5.8397, 851: 5.8397, 943: 5.8397, 1018: 5.8397, 1058: 5.8397, 1099: 5.8397, 1103: 5.8397, 1150: 5.8397, 1152: 5.8397, 1212: 5.8397, 1235: 5.8397, 1290: 5.8397, 1296: 5.8397, 1377: 5.8397, 1404: 5.8397, 1500: 5.8397, 1536: 5.8397, 1567: 5.8397}), label=0.0)"
      ]
     },
     "execution_count": 30,
     "metadata": {},
     "output_type": "execute_result"
    }
   ],
   "source": [
    "data_clean.collect()[0]"
   ]
  },
  {
   "cell_type": "code",
   "execution_count": 31,
   "id": "6821c8ae",
   "metadata": {
    "scrolled": false
   },
   "outputs": [
    {
     "name": "stdout",
     "output_type": "stream",
     "text": [
      "root\n",
      " |-- reviewText: string (nullable = true)\n",
      " |-- overall: double (nullable = true)\n",
      " |-- sentiment: string (nullable = false)\n",
      " |-- token_reviewText: array (nullable = true)\n",
      " |    |-- element: string (containsNull = true)\n",
      " |-- stop_tokens: array (nullable = true)\n",
      " |    |-- element: string (containsNull = true)\n",
      " |-- c_vec: vector (nullable = true)\n",
      " |-- features: vector (nullable = true)\n",
      " |-- label: double (nullable = false)\n",
      "\n"
     ]
    }
   ],
   "source": [
    "data_clean.printSchema()"
   ]
  },
  {
   "cell_type": "code",
   "execution_count": 32,
   "id": "cd9afe6a",
   "metadata": {
    "scrolled": false
   },
   "outputs": [
    {
     "data": {
      "text/plain": [
       "3092"
      ]
     },
     "execution_count": 32,
     "metadata": {},
     "output_type": "execute_result"
    }
   ],
   "source": [
    "data_clean.count()"
   ]
  },
  {
   "cell_type": "code",
   "execution_count": 33,
   "id": "b06290d9",
   "metadata": {
    "scrolled": true
   },
   "outputs": [
    {
     "name": "stdout",
     "output_type": "stream",
     "text": [
      "+---------+-----+\n",
      "|sentiment|count|\n",
      "+---------+-----+\n",
      "| POSITIVE| 2575|\n",
      "| NEGATIVE|  195|\n",
      "|  NEUTRAL|  322|\n",
      "+---------+-----+\n",
      "\n"
     ]
    }
   ],
   "source": [
    "data_clean.groupBy('sentiment').count().show()"
   ]
  },
  {
   "cell_type": "code",
   "execution_count": 34,
   "id": "f44f95d7",
   "metadata": {},
   "outputs": [
    {
     "name": "stdout",
     "output_type": "stream",
     "text": [
      "+--------------------+---------+-----+\n",
      "|          reviewText|sentiment|label|\n",
      "+--------------------+---------+-----+\n",
      "|Great shoe. I've ...| POSITIVE|  0.0|\n",
      "|They were a gift ...| POSITIVE|  0.0|\n",
      "| i love these shoes.| POSITIVE|  0.0|\n",
      "|Really comfortabl...| POSITIVE|  0.0|\n",
      "|I needed a wide s...| POSITIVE|  0.0|\n",
      "|Artculo equivocad...| NEGATIVE|  2.0|\n",
      "|BEST sneakers I'v...| POSITIVE|  0.0|\n",
      "|Very nice shoes. ...| POSITIVE|  0.0|\n",
      "|These sneakers gi...| POSITIVE|  0.0|\n",
      "|Great look but ze...|  NEUTRAL|  1.0|\n",
      "|Not sure why, but...|  NEUTRAL|  1.0|\n",
      "|The fit was perfe...| POSITIVE|  0.0|\n",
      "|I've been using t...| POSITIVE|  0.0|\n",
      "|       just do it :)| POSITIVE|  0.0|\n",
      "|Love my new Nike'...| POSITIVE|  0.0|\n",
      "|Favorite Nikes ev...| POSITIVE|  0.0|\n",
      "|The sneakers are ...| POSITIVE|  0.0|\n",
      "|Nice pants but to...| NEGATIVE|  2.0|\n",
      "|Love them! Fit ex...| POSITIVE|  0.0|\n",
      "|Put them on and w...| POSITIVE|  0.0|\n",
      "+--------------------+---------+-----+\n",
      "only showing top 20 rows\n",
      "\n"
     ]
    }
   ],
   "source": [
    " data_clean.select(['reviewText','sentiment','label']).show()"
   ]
  },
  {
   "cell_type": "markdown",
   "id": "9c70b0cb",
   "metadata": {},
   "source": [
    "### Split the dataset into training and testing datasets"
   ]
  },
  {
   "cell_type": "code",
   "execution_count": 35,
   "id": "cd2378b2",
   "metadata": {},
   "outputs": [],
   "source": [
    "training, testing = data_clean.randomSplit([0.75, 0.25], seed=10)"
   ]
  },
  {
   "cell_type": "markdown",
   "id": "68c99ad8",
   "metadata": {},
   "source": [
    "### Logistic Regression Model"
   ]
  },
  {
   "cell_type": "code",
   "execution_count": 36,
   "id": "65a51ce5",
   "metadata": {},
   "outputs": [],
   "source": [
    "from pyspark.ml.classification import NaiveBayes, DecisionTreeClassifier, LogisticRegression, RandomForestClassifier"
   ]
  },
  {
   "cell_type": "code",
   "execution_count": 37,
   "id": "579569b8",
   "metadata": {},
   "outputs": [],
   "source": [
    "lr_model = LogisticRegression(featuresCol='features', labelCol='label', maxIter=100) "
   ]
  },
  {
   "cell_type": "code",
   "execution_count": 38,
   "id": "58b5eec7",
   "metadata": {
    "scrolled": true
   },
   "outputs": [
    {
     "name": "stderr",
     "output_type": "stream",
     "text": [
      "23/11/07 14:22:04 WARN InstanceBuilder: Failed to load implementation from:dev.ludovic.netlib.blas.JNIBLAS\n"
     ]
    }
   ],
   "source": [
    "lr_classifier = lr_model.fit(training)"
   ]
  },
  {
   "cell_type": "code",
   "execution_count": 39,
   "id": "f41a27c4",
   "metadata": {
    "scrolled": true
   },
   "outputs": [
    {
     "data": {
      "text/plain": [
       "[Row(reviewText='A little more cushion than the Powerstep Protech but the arch is maybe just a little lower. We love both styles. Excellent for plantar fasciitis and neuromas.', sentiment='POSITIVE', label=0.0),\n",
       " Row(reviewText=\"A nice lightweight shoe. Not a lot of cushion so I wouldn't run long distances in them.\", sentiment='POSITIVE', label=0.0),\n",
       " Row(reviewText=\"A nice lightweight shoe. Not a lot of cushion so I wouldn't run long distances in them.\", sentiment='POSITIVE', label=0.0),\n",
       " Row(reviewText='A-MA-ZING!  I needed a good jogging shoe and these make me feel like \"Forest Gump\".  I felt like I was running on a cloud.  I have narrow feet and these fit perfectly.  I am so happy that I am going to purchase another two pair as back-ups for once it\\'s time to replace them.  Highly recommend to women who like to walk or run and light a light weight, comfortable shoe.', sentiment='POSITIVE', label=0.0),\n",
       " Row(reviewText='A-MA-ZING!  I needed a good jogging shoe and these make me feel like \"Forest Gump\".  I felt like I was running on a cloud.  I have narrow feet and these fit perfectly.  I am so happy that I am going to purchase another two pair as back-ups for once it\\'s time to replace them.  Highly recommend to women who like to walk or run and light a light weight, comfortable shoe.', sentiment='POSITIVE', label=0.0)]"
      ]
     },
     "execution_count": 39,
     "metadata": {},
     "output_type": "execute_result"
    }
   ],
   "source": [
    "lr_test_results = lr_classifier.transform(testing)\n",
    "lr_test_results.select(['reviewText','sentiment','label']).head(5)"
   ]
  },
  {
   "cell_type": "code",
   "execution_count": 40,
   "id": "6d9ee0db",
   "metadata": {},
   "outputs": [],
   "source": [
    "from pyspark.mllib.evaluation import MulticlassMetrics"
   ]
  },
  {
   "cell_type": "code",
   "execution_count": 41,
   "id": "039243e0",
   "metadata": {},
   "outputs": [
    {
     "name": "stderr",
     "output_type": "stream",
     "text": [
      "/home/mobin/.local/lib/python3.10/site-packages/pyspark/sql/context.py:157: FutureWarning: Deprecated in 3.0.0. Use SparkSession.builder.getOrCreate() instead.\n",
      "  warnings.warn(\n",
      "                                                                                \r"
     ]
    },
    {
     "name": "stdout",
     "output_type": "stream",
     "text": [
      "Accuracy of Logistic Regression Model = 0.9960988296488946\n"
     ]
    }
   ],
   "source": [
    "results = lr_test_results.select(['prediction','label'])\n",
    "predictionAndLabels = results.rdd\n",
    "metrics = MulticlassMetrics(predictionAndLabels)\n",
    "print(\"Accuracy of Logistic Regression Model = {}\".format(metrics.accuracy))"
   ]
  },
  {
   "cell_type": "code",
   "execution_count": 42,
   "id": "39b6bb3a",
   "metadata": {
    "scrolled": true
   },
   "outputs": [
    {
     "data": {
      "text/plain": [
       "array([[641.,   0.,   1.],\n",
       "       [  1.,  71.,   0.],\n",
       "       [  1.,   0.,  54.]])"
      ]
     },
     "execution_count": 42,
     "metadata": {},
     "output_type": "execute_result"
    }
   ],
   "source": [
    "metrics.confusionMatrix().toArray()  # lr confusion matrix "
   ]
  },
  {
   "cell_type": "code",
   "execution_count": 43,
   "id": "4793058a",
   "metadata": {},
   "outputs": [
    {
     "data": {
      "text/plain": [
       "0.9976653696498056"
      ]
     },
     "execution_count": 43,
     "metadata": {},
     "output_type": "execute_result"
    }
   ],
   "source": [
    "metrics.fMeasure(label=0.0)"
   ]
  },
  {
   "cell_type": "code",
   "execution_count": 44,
   "id": "30d8b415",
   "metadata": {},
   "outputs": [
    {
     "data": {
      "text/plain": [
       "0.993006993006993"
      ]
     },
     "execution_count": 44,
     "metadata": {},
     "output_type": "execute_result"
    }
   ],
   "source": [
    "metrics.fMeasure(label=1.0)"
   ]
  },
  {
   "cell_type": "code",
   "execution_count": 45,
   "id": "2593549b",
   "metadata": {},
   "outputs": [
    {
     "data": {
      "text/plain": [
       "0.9818181818181818"
      ]
     },
     "execution_count": 45,
     "metadata": {},
     "output_type": "execute_result"
    }
   ],
   "source": [
    "metrics.fMeasure(label=2.0)"
   ]
  },
  {
   "cell_type": "code",
   "execution_count": 46,
   "id": "4e1af30c",
   "metadata": {},
   "outputs": [
    {
     "data": {
      "text/plain": [
       "0.9968895800933126"
      ]
     },
     "execution_count": 46,
     "metadata": {},
     "output_type": "execute_result"
    }
   ],
   "source": [
    "metrics.precision(label=0.0)"
   ]
  },
  {
   "cell_type": "code",
   "execution_count": 47,
   "id": "094caa0b",
   "metadata": {},
   "outputs": [
    {
     "data": {
      "text/plain": [
       "1.0"
      ]
     },
     "execution_count": 47,
     "metadata": {},
     "output_type": "execute_result"
    }
   ],
   "source": [
    "metrics.precision(label=1.0)"
   ]
  },
  {
   "cell_type": "code",
   "execution_count": 48,
   "id": "e245700a",
   "metadata": {},
   "outputs": [
    {
     "data": {
      "text/plain": [
       "0.9818181818181818"
      ]
     },
     "execution_count": 48,
     "metadata": {},
     "output_type": "execute_result"
    }
   ],
   "source": [
    "metrics.precision(label=2.0)"
   ]
  },
  {
   "cell_type": "markdown",
   "id": "7be2e586",
   "metadata": {},
   "source": [
    "### Naive Bayes Model"
   ]
  },
  {
   "cell_type": "code",
   "execution_count": 49,
   "id": "fc8056e8",
   "metadata": {},
   "outputs": [],
   "source": [
    "nb_model = NaiveBayes(featuresCol='features', labelCol='label')\n",
    "nb_classifier = nb_model.fit(training)\n",
    "nb_test_results = nb_classifier.transform(testing)"
   ]
  },
  {
   "cell_type": "code",
   "execution_count": 50,
   "id": "ba824e7a",
   "metadata": {
    "scrolled": false
   },
   "outputs": [
    {
     "name": "stdout",
     "output_type": "stream",
     "text": [
      "Accuracy of Naive Bayes Model = 0.9817945383615084\n"
     ]
    }
   ],
   "source": [
    "results = nb_test_results.select(['prediction','label'])\n",
    "predictionAndLabels = results.rdd\n",
    "metrics = MulticlassMetrics(predictionAndLabels)\n",
    "metrics.accuracy\n",
    "print(\"Accuracy of Naive Bayes Model = {}\".format(metrics.accuracy))"
   ]
  },
  {
   "cell_type": "code",
   "execution_count": 51,
   "id": "28fad96e",
   "metadata": {},
   "outputs": [
    {
     "data": {
      "text/plain": [
       "array([[629.,   5.,   8.],\n",
       "       [  1.,  71.,   0.],\n",
       "       [  0.,   0.,  55.]])"
      ]
     },
     "execution_count": 51,
     "metadata": {},
     "output_type": "execute_result"
    }
   ],
   "source": [
    "metrics.confusionMatrix().toArray()    # nb confusion matrix "
   ]
  },
  {
   "cell_type": "code",
   "execution_count": 52,
   "id": "09f329e5",
   "metadata": {
    "scrolled": true
   },
   "outputs": [
    {
     "data": {
      "text/plain": [
       "0.988993710691824"
      ]
     },
     "execution_count": 52,
     "metadata": {},
     "output_type": "execute_result"
    }
   ],
   "source": [
    "metrics.fMeasure(label=0.0)"
   ]
  },
  {
   "cell_type": "code",
   "execution_count": 53,
   "id": "3b44863e",
   "metadata": {},
   "outputs": [
    {
     "data": {
      "text/plain": [
       "0.9594594594594595"
      ]
     },
     "execution_count": 53,
     "metadata": {},
     "output_type": "execute_result"
    }
   ],
   "source": [
    "metrics.fMeasure(label=1.0)"
   ]
  },
  {
   "cell_type": "code",
   "execution_count": 54,
   "id": "cb6a085b",
   "metadata": {},
   "outputs": [
    {
     "data": {
      "text/plain": [
       "0.9322033898305084"
      ]
     },
     "execution_count": 54,
     "metadata": {},
     "output_type": "execute_result"
    }
   ],
   "source": [
    "metrics.fMeasure(label=2.0)"
   ]
  },
  {
   "cell_type": "code",
   "execution_count": 55,
   "id": "39bb7c1d",
   "metadata": {
    "scrolled": true
   },
   "outputs": [
    {
     "data": {
      "text/plain": [
       "0.9984126984126984"
      ]
     },
     "execution_count": 55,
     "metadata": {},
     "output_type": "execute_result"
    }
   ],
   "source": [
    "metrics.precision(label=0.0)"
   ]
  },
  {
   "cell_type": "code",
   "execution_count": 56,
   "id": "5835302d",
   "metadata": {},
   "outputs": [
    {
     "data": {
      "text/plain": [
       "0.9342105263157895"
      ]
     },
     "execution_count": 56,
     "metadata": {},
     "output_type": "execute_result"
    }
   ],
   "source": [
    "metrics.precision(label=1.0)"
   ]
  },
  {
   "cell_type": "code",
   "execution_count": 57,
   "id": "88515e7d",
   "metadata": {},
   "outputs": [
    {
     "data": {
      "text/plain": [
       "0.873015873015873"
      ]
     },
     "execution_count": 57,
     "metadata": {},
     "output_type": "execute_result"
    }
   ],
   "source": [
    "metrics.precision(label=2.0)"
   ]
  }
 ],
 "metadata": {
  "kernelspec": {
   "display_name": "Python 3 (ipykernel)",
   "language": "python",
   "name": "python3"
  },
  "language_info": {
   "codemirror_mode": {
    "name": "ipython",
    "version": 3
   },
   "file_extension": ".py",
   "mimetype": "text/x-python",
   "name": "python",
   "nbconvert_exporter": "python",
   "pygments_lexer": "ipython3",
   "version": "3.10.12"
  }
 },
 "nbformat": 4,
 "nbformat_minor": 5
}
